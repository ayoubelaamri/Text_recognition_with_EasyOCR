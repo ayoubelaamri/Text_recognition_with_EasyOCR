{
 "cells": [
  {
   "cell_type": "code",
   "execution_count": null,
   "id": "working-approval",
   "metadata": {
    "colab": {
     "base_uri": "https://localhost:8080/"
    },
    "id": "working-approval",
    "outputId": "a459cd9a-f244-480b-cfe0-61d951e23e35"
   },
   "outputs": [
    {
     "name": "stdout",
     "output_type": "stream",
     "text": [
      "Requirement already satisfied: opencv-python in /usr/local/lib/python3.7/dist-packages (4.1.2.30)\n",
      "Requirement already satisfied: numpy>=1.14.5 in /usr/local/lib/python3.7/dist-packages (from opencv-python) (1.21.5)\n",
      "Requirement already satisfied: matplotlib in /usr/local/lib/python3.7/dist-packages (3.2.2)\n",
      "Requirement already satisfied: python-dateutil>=2.1 in /usr/local/lib/python3.7/dist-packages (from matplotlib) (2.8.2)\n",
      "Requirement already satisfied: pyparsing!=2.0.4,!=2.1.2,!=2.1.6,>=2.0.1 in /usr/local/lib/python3.7/dist-packages (from matplotlib) (3.0.7)\n",
      "Requirement already satisfied: numpy>=1.11 in /usr/local/lib/python3.7/dist-packages (from matplotlib) (1.21.5)\n",
      "Requirement already satisfied: cycler>=0.10 in /usr/local/lib/python3.7/dist-packages (from matplotlib) (0.11.0)\n",
      "Requirement already satisfied: kiwisolver>=1.0.1 in /usr/local/lib/python3.7/dist-packages (from matplotlib) (1.4.0)\n",
      "Requirement already satisfied: typing-extensions in /usr/local/lib/python3.7/dist-packages (from kiwisolver>=1.0.1->matplotlib) (3.10.0.2)\n",
      "Requirement already satisfied: six>=1.5 in /usr/local/lib/python3.7/dist-packages (from python-dateutil>=2.1->matplotlib) (1.15.0)\n",
      "Requirement already satisfied: numpy in /usr/local/lib/python3.7/dist-packages (1.21.5)\n"
     ]
    }
   ],
   "source": [
    "!pip install opencv-python\n",
    "!pip install matplotlib\n",
    "!pip install numpy"
   ]
  },
  {
   "cell_type": "code",
   "execution_count": null,
   "id": "dominant-rainbow",
   "metadata": {
    "id": "dominant-rainbow"
   },
   "outputs": [],
   "source": [
    "!pip install torch==1.7.1+cpu torchvision==0.8.2+cpu torchaudio===0.7.2 -f https://download.pytorch.org/whl/torch_stable.html\n",
    "!pip install easyocr"
   ]
  },
  {
   "cell_type": "code",
   "execution_count": null,
   "id": "-rIcMhJzFlAJ",
   "metadata": {
    "colab": {
     "base_uri": "https://localhost:8080/"
    },
    "id": "-rIcMhJzFlAJ",
    "outputId": "b256fc31-4966-4d88-8ad3-d36e09a2287b"
   },
   "outputs": [
    {
     "name": "stdout",
     "output_type": "stream",
     "text": [
      "Found existing installation: opencv-python 4.1.2.30\n",
      "Uninstalling opencv-python-4.1.2.30:\n",
      "  Successfully uninstalled opencv-python-4.1.2.30\n"
     ]
    }
   ],
   "source": [
    "!pip uninstall -y opencv-python==4.5.2.52\n",
    "\n"
   ]
  },
  {
   "cell_type": "code",
   "execution_count": null,
   "id": "HE8EcN6gGSWL",
   "metadata": {
    "colab": {
     "base_uri": "https://localhost:8080/"
    },
    "id": "HE8EcN6gGSWL",
    "outputId": "01763a3d-389f-4ee9-8bfc-5c4104a5afe4"
   },
   "outputs": [
    {
     "name": "stdout",
     "output_type": "stream",
     "text": [
      "Found existing installation: opencv-python-headless 4.5.5.64\n",
      "Uninstalling opencv-python-headless-4.5.5.64:\n",
      "  Successfully uninstalled opencv-python-headless-4.5.5.64\n",
      "Collecting opencv-python-headless==4.1.2.30\n",
      "  Downloading opencv_python_headless-4.1.2.30-cp37-cp37m-manylinux1_x86_64.whl (21.8 MB)\n",
      "\u001b[K     |████████████████████████████████| 21.8 MB 1.5 MB/s \n",
      "\u001b[?25hRequirement already satisfied: numpy>=1.14.5 in /usr/local/lib/python3.7/dist-packages (from opencv-python-headless==4.1.2.30) (1.21.5)\n",
      "Installing collected packages: opencv-python-headless\n",
      "Successfully installed opencv-python-headless-4.1.2.30\n"
     ]
    }
   ],
   "source": [
    "!pip uninstall -y opencv-python-headless==4.5.5.62 \n",
    "!pip install opencv-python-headless==4.1.2.30"
   ]
  },
  {
   "cell_type": "code",
   "execution_count": null,
   "id": "gentle-member",
   "metadata": {
    "id": "gentle-member"
   },
   "outputs": [],
   "source": [
    "import cv2\n",
    "import numpy as np\n",
    "import easyocr\n",
    "import matplotlib.pyplot as plt\n",
    "%matplotlib inline"
   ]
  },
  {
   "cell_type": "markdown",
   "id": "acoustic-correspondence",
   "metadata": {
    "id": "acoustic-correspondence"
   },
   "source": [
    "# Image loading and text recognition using EasyOCR"
   ]
  },
  {
   "cell_type": "code",
   "execution_count": null,
   "id": "everyday-saturday",
   "metadata": {
    "id": "everyday-saturday"
   },
   "outputs": [],
   "source": [
    "im_1_path = '/content/12.PNG'"
   ]
  },
  {
   "cell_type": "code",
   "execution_count": null,
   "id": "available-perspective",
   "metadata": {
    "id": "available-perspective"
   },
   "outputs": [],
   "source": [
    "def recognize_text(img_path):\n",
    "    '''loads an image and recognizes text.'''\n",
    "    \n",
    "    reader = easyocr.Reader(['en'])\n",
    "    return reader.readtext(img_path)"
   ]
  },
  {
   "cell_type": "code",
   "execution_count": null,
   "id": "choice-length",
   "metadata": {
    "colab": {
     "base_uri": "https://localhost:8080/"
    },
    "id": "choice-length",
    "outputId": "d2fc0acc-9d03-44c9-b868-b2d300ef03ea"
   },
   "outputs": [
    {
     "name": "stderr",
     "output_type": "stream",
     "text": [
      "CUDA not available - defaulting to CPU. Note: This module is much faster with a GPU.\n",
      "Downloading detection model, please wait. This may take several minutes depending upon your network connection.\n"
     ]
    },
    {
     "name": "stdout",
     "output_type": "stream",
     "text": []
    },
    {
     "name": "stderr",
     "output_type": "stream",
     "text": [
      "Downloading recognition model, please wait. This may take several minutes depending upon your network connection.\n"
     ]
    },
    {
     "name": "stdout",
     "output_type": "stream",
     "text": [
      "[([[285, 1], [323, 1], [323, 17], [285, 17]], '25/27', 0.6284511773936282), ([[66, 15], [316, 15], [316, 42], [66, 42]], 'Constat amiable  Taccident automobile', 0.6792813655447015), ([[333, 18], [452, 18], [452, 44], [333, 44]], 'albi &6', 0.03413641298939999), ([[498, 21], [556, 21], [556, 48], [498, 48]], 'Lyla', 0.266745388507843), ([[63, 31], [169, 31], [169, 60], [63, 60]], 'Exclusivement F', 0.3575719012254003), ([[180, 40], [206, 40], [206, 48], [180, 48]], 'L', 0.07557903273260536), ([[500, 42], [550, 42], [550, 66], [500, 66]], 'SSL', 0.7508122964695281), ([[369, 69], [507, 69], [507, 83], [369, 83]], \"#'CCojV\", 0.0018439626578251919), ([[73, 77], [95, 77], [95, 89], [73, 89]], 'Date', 0.5486620664596558), ([[108, 80], [148, 80], [148, 88], [108, 88]], 'cC Reni', 0.09070554160826566), ([[169, 79], [209, 79], [209, 93], [169, 93]], '25 (e', 0.2173362290568287), ([[223, 77], [263, 77], [263, 93], [223, 93]], '8924', 0.19541743397712708), ([[296, 78], [343, 78], [343, 96], [296, 96]], 'Al* 59', 0.3005323645372619), ([[71, 89], [121, 89], [121, 101], [71, 101]], 'Lieu procia', 0.32863514945510636), ([[494, 88], [516, 88], [516, 96], [494, 96]], '4ee', 0.012569408920814427), ([[153, 93], [175, 93], [175, 107], [153, 107]], 'ED', 0.299086193043437), ([[183, 93], [213, 93], [213, 107], [183, 107]], 'DES', 0.5060209057679078), ([[219, 93], [247, 93], [247, 107], [219, 107]], 'FAR', 0.7156270540099997), ([[261, 95], [289, 95], [289, 107], [261, 107]], 'TL', 0.6091145204173706), ([[290, 92], [335, 92], [335, 110], [290, 110]], 'Beukj', 0.2671516356255802), ([[356, 92], [421, 92], [421, 111], [356, 111]], 'Acrol', 0.13412242125884363), ([[71, 103], [235, 103], [235, 117], [71, 117]], '0 pianuerbautna qu4l kchokns44B', 0.0037556967348689532), ([[278, 110], [312, 110], [312, 118], [278, 118]], 'AAc \"', 0.03801027288979691), ([[465, 109], [519, 109], [519, 121], [465, 121]], '4r7', 0.012165837524469422), ([[72, 118], [214, 118], [214, 144], [72, 144]], \"'378 3177611366\", 0.009963368448841211), ([[237, 123], [291, 123], [291, 143], [237, 143]], 'AF,TCr', 0.018136325984108196), ([[297, 129], [337, 129], [337, 143], [297, 143]], 'FLAT', 0.3966423571109772), ([[410, 124], [546, 124], [546, 150], [410, 150]], '3ZExr*61', 0.04220448430753528), ([[56, 152], [113, 152], [113, 170], [56, 170]], 'Vehicule', 0.9977458187833177), ([[151, 157], [185, 157], [185, 171], [151, 171]], '0L', 0.031517871752358956), ([[301, 151], [373, 151], [373, 165], [301, 165]], '605 Constat', 0.23018356762411582), ([[439, 161], [495, 161], [495, 175], [439, 175]], 'Vahicule', 0.6797355953642973), ([[517, 161], [549, 161], [549, 177], [517, 177]], \"Y')\", 0.054193829833359144), ([[109, 177], [179, 177], [179, 191], [109, 191]], 'HYJNDAT', 0.27604018235250627), ([[93, 191], [153, 191], [153, 203], [93, 203]], 'CJluA', 0.09366509053694318), ([[408, 178], [506, 178], [506, 210], [408, 210]], '8 4 BASEA', 0.21741235305108186), ([[91, 201], [153, 201], [153, 217], [91, 217]], '64352.H', 0.2096979821614746), ([[435, 203], [475, 203], [475, 219], [435, 219]], '4144', 0.9283604025840759), ([[481, 205], [517, 205], [517, 219], [481, 219]], '2-(9', 0.24580927193164825), ([[85, 213], [127, 213], [127, 229], [85, 229]], 'BALES', 0.2960348285900487), ([[131, 215], [165, 215], [165, 229], [131, 229]], 'EeQ', 0.1093972772359848), ([[433, 219], [517, 219], [517, 233], [433, 233]], 'EDPES Far', 0.05425359548806421), ([[46, 238], [87, 238], [87, 254], [46, 254]], 'Assure5', 0.33966609410211945), ([[75, 252], [150, 252], [150, 276], [75, 276]], 'FAGRosTE', 0.13018545664057837), ([[425, 255], [513, 255], [513, 269], [425, 269]], 'SE Cmic', 0.21533076177276053), ([[85, 269], [181, 269], [181, 287], [85, 287]], 'AEDE BAHIA', 0.21443322520590705), ([[425, 267], [493, 267], [493, 281], [425, 281]], 'BcufDds?', 0.19108246548768376), ([[498, 268], [526, 268], [526, 276], [498, 276]], 'CAL', 0.052577532186687675), ([[87, 289], [147, 289], [147, 305], [87, 305]], 'AcLLTA', 0.10576436808403379), ([[453, 287], [529, 287], [529, 301], [453, 301]], 'Bojjou?', 0.27130777457798033), ([[46, 304], [94, 304], [94, 312], [46, 312]], 'S4g44rino', 0.01666439030013611), ([[119, 303], [165, 303], [165, 317], [119, 317]], '@HAn', 0.033017080277204514), ([[451, 299], [503, 299], [503, 313], [451, 313]], 'SeHAn', 0.10014420583001324), ([[46, 316], [92, 316], [92, 324], [46, 324]], 'Ydatlilon', 0.024856803330596994), ([[93, 315], [199, 315], [199, 329], [93, 329]], '054d4324284', 0.11937485557716318), ([[429, 313], [531, 313], [531, 327], [429, 327]], '054 41052896', 0.1840099314591403), ([[46, 328], [80, 328], [80, 336], [46, 336]], '4dno', 0.01987399533390999), ([[80, 323], [199, 323], [199, 342], [80, 342]], 'Au[o2in12+u3', 0.04285021750134679), ([[429, 319], [563, 319], [563, 339], [429, 339]], 'Auas /L2Ac7(a8lL;', 0.002257993066851985), ([[69, 345], [197, 345], [197, 365], [69, 365]], '2E69lei Aclll22', 0.019302363716052755), ([[424, 350], [477, 350], [477, 367], [424, 367]], '55/eL1Z', 0.10692902310797385), ([[487, 351], [539, 351], [539, 367], [487, 367]], 'FllE', 0.09710635244846344), ([[141, 363], [177, 363], [177, 375], [141, 375]], 'LUTS', 0.19583112001419067), ([[426, 366], [490, 366], [490, 374], [426, 374]], '7', 0.062448817543586665), ([[43, 377], [179, 377], [179, 393], [43, 393]], 'Conducteur (nnHoam', 0.046470432843471604), ([[427, 389], [463, 389], [463, 403], [427, 403]], 'FOLA', 0.06133189797401428), ([[437, 401], [493, 401], [493, 415], [437, 415]], 'AHTED', 0.08165130320490924), ([[106, 418], [142, 418], [142, 426], [106, 426]], '140 7', 0.03343847467110149), ([[456, 418], [515, 418], [515, 436], [456, 436]], 'TEZOIT', 0.2722012931039915), ([[107, 435], [185, 435], [185, 451], [107, 451]], '13L2SI', 0.10684566847931433), ([[436, 433], [517, 433], [517, 451], [436, 451]], '4l44224', 0.368054717030936), ([[98, 446], [198, 446], [198, 472], [98, 472]], '76342161]', 0.03340611931315063), ([[422, 448], [509, 448], [509, 467], [422, 467]], '\"Guici%e19 =', 0.092731467090975), ([[109, 469], [189, 469], [189, 489], [109, 489]], '2244re34', 0.1860354312854811), ([[433, 458], [526, 458], [526, 488], [433, 488]], 'Afstbuz4', 0.02341092716228885), ([[133, 489], [184, 489], [184, 498], [133, 498]], 'Al tu cetes |ale', 0.005837446499935226), ([[456, 516], [522, 516], [522, 572], [456, 572]], '# 0', 0.21485914289951324), ([[36, 571], [105, 571], [105, 600], [36, 600]], 'Depita aepa', 0.011424653857262755), ([[76, 574], [132, 574], [132, 598], [76, 598]], '@pparonts', 0.17447981163103554), ([[509, 576], [582, 576], [582, 595], [509, 595]], \"'Al ALUi\", 0.08716683419910567), ([[439, 587], [497, 587], [497, 603], [439, 603]], 'Parclec', 0.24223577607652721), ([[67, 597], [115, 597], [115, 611], [67, 611]], 'MALL', 0.604331374168396), ([[448, 590], [532, 590], [532, 614], [448, 614]], 'CALAn Dlet', 0.04699672659360515), ([[485, 615], [529, 615], [529, 635], [485, 635]], 'Gre)', 0.27085748314857483), ([[539, 625], [583, 625], [583, 639], [539, 639]], '2', 0.06402354853891268), ([[447, 651], [481, 651], [481, 665], [447, 665]], '(Voey', 0.18339984063727047), ([[487, 651], [519, 651], [519, 665], [487, 665]], 'C', 0.9614424000064901), ([[417, 709], [552, 709], [552, 737], [417, 737]], '227776', 0.08094734772678201), ([[511, 725], [551, 725], [551, 737], [511, 737]], '7ji', 0.05571838149426088), ([[425, 735], [511, 735], [511, 747], [425, 747]], ':ll0', 0.0048562102019786835), ([[461.2572186472918, 22.14304661822948], [501.87824570424067, 28.312836937472937], [497.7427813527082, 50.856953381770516], [457.12175429575933, 44.68716306252706]], '499', 0.29269048371299133), ([[45.51435706882137, 172.12584272387846], [93.98693288077568, 177.83886810109786], [91.48564293117863, 191.87415727612154], [43.01306711922432, 186.16113189890214]], 'Vchicule', 0.383338635393431), ([[116.10557280900008, 363.55278640450007], [137.86542628548113, 360.4989637294583], [138.89442719099992, 369.44721359549993], [117.13457371451888, 372.5010362705417]], 'Ala', 0.018742252486447977), ([[49.71963120067104, 444.46355744080523], [93.65061452249967, 437.87063216881603], [96.28036879932895, 459.53644255919477], [52.349385477500334, 466.12936783118397]], 'Loa', 0.10260953957976833), ([[33.12652114433654, 625.137956343301], [146.81227581602928, 606.9554404111891], [149.87347885566345, 629.862043656699], [36.1877241839707, 648.0445595888109]], 'Observations Spe)', 0.7981900454105532)]\n"
     ]
    }
   ],
   "source": [
    "result = recognize_text(im_1_path)\n",
    "print(result)"
   ]
  },
  {
   "cell_type": "code",
   "execution_count": null,
   "id": "fTYBlAIAf2eF",
   "metadata": {
    "id": "fTYBlAIAf2eF"
   },
   "outputs": [],
   "source": [
    "# res_1 = result[2]\n",
    "# res_2 = result[3]\n",
    "\n",
    "# result = res_1[1] + res_2[1]\n",
    "# len(result)"
   ]
  },
  {
   "cell_type": "code",
   "execution_count": null,
   "id": "78liLt1oGaJi",
   "metadata": {
    "id": "78liLt1oGaJi"
   },
   "outputs": [],
   "source": [
    "# len(result[2])\n",
    "# print(len(result[2][1]))\n",
    "# for i in result[2][1]:\n",
    "#   print(i)"
   ]
  },
  {
   "cell_type": "code",
   "execution_count": null,
   "id": "dhh9pM0lWoFs",
   "metadata": {
    "id": "dhh9pM0lWoFs"
   },
   "outputs": [],
   "source": [
    "from tqdm.notebook import tqdm\n",
    "import json\n",
    "from urllib.request import urlopen as uReq\n",
    "from bs4 import BeautifulSoup as soup\n",
    "import pandas as pd"
   ]
  },
  {
   "cell_type": "code",
   "execution_count": null,
   "id": "mV2qJu9AlvRf",
   "metadata": {
    "id": "mV2qJu9AlvRf"
   },
   "outputs": [],
   "source": [
    "# vinn = 'OTYBFEASELDX160404'\n",
    "# len(vinn)"
   ]
  },
  {
   "cell_type": "code",
   "execution_count": null,
   "id": "0Pav9DOnm0-i",
   "metadata": {
    "id": "0Pav9DOnm0-i"
   },
   "outputs": [],
   "source": [
    "# vinn[0]"
   ]
  },
  {
   "cell_type": "markdown",
   "id": "vS1QzwU7OqGW",
   "metadata": {
    "id": "vS1QzwU7OqGW"
   },
   "source": [
    "# test 1"
   ]
  },
  {
   "cell_type": "code",
   "execution_count": null,
   "id": "Cf7FQmHzgN7U",
   "metadata": {
    "id": "Cf7FQmHzgN7U"
   },
   "outputs": [],
   "source": [
    "# import string\n",
    "# vin_list=[]\n",
    "# for i in range(len(result)):\n",
    "#   # print(i)\n",
    "#   if len(result[i][1]) > 15:\n",
    "#     vin = result[i][1].translate({ord(c): None for c in string.whitespace})\n",
    "#     if len(vin) == 17:\n",
    "#       # print(vin)\n",
    "#       vin_list.append(vin)\n",
    "#       print(vin_list)\n",
    "\n",
    "# with open('vin_res.json', 'w') as outfile:# a w\n",
    "#     json.dump(vin_list, outfile)"
   ]
  },
  {
   "cell_type": "markdown",
   "id": "Wle1mFZKOlpu",
   "metadata": {
    "id": "Wle1mFZKOlpu"
   },
   "source": [
    "# test 2"
   ]
  },
  {
   "cell_type": "code",
   "execution_count": null,
   "id": "fEHG_GllOjXk",
   "metadata": {
    "colab": {
     "base_uri": "https://localhost:8080/"
    },
    "id": "fEHG_GllOjXk",
    "outputId": "8543c4c0-33d9-4edf-a8dd-86987e8f5a09"
   },
   "outputs": [
    {
     "name": "stdout",
     "output_type": "stream",
     "text": [
      "VFARJA00766998704\n"
     ]
    }
   ],
   "source": [
    "import json\n",
    "import string\n",
    "vin_list=[]\n",
    "for i in range(len(result)):\n",
    "  # print(i)\n",
    "  if len(result[i][1]) > 15:\n",
    "    vin = result[i][1].translate({ord(c): None for c in string.whitespace})\n",
    "    # if len(vin) > 16:\n",
    "      # if vin[0] == 'I':\n",
    "      #   vin = vin[1:]\n",
    "    # print(vin)\n",
    "    i = 0\n",
    "    if len(vin) < 17 & len(vin) >= 12:\n",
    "      vin = vin.ljust(17, i+1)\n",
    "      i += 1\n",
    "      # print(vin)\n",
    "\n",
    "    # if vin[0] == 'O':\n",
    "    #   vin = vin[1:18]\n",
    "    #   vin = vin.replace(']', '1')\n",
    "      # print(len(vin))\n",
    "    \n",
    "    if vin[0] == '0':\n",
    "      vin = vin[0].replace('0','U') + vin[1:]\n",
    "      print(len(vin))\n",
    "\n",
    "    if len(vin) == 17:\n",
    "      vin = vin.replace('O', '0')\n",
    "      vin = vin.replace('o', '0')\n",
    "      vin = vin.replace('I', '1')\n",
    "      vin = vin.replace('Q', '9')\n",
    "      vin_list.append(vin)\n",
    "      print(vin)\n",
    "\n",
    "with open('vin_res.json', 'w') as outfile:# a w\n",
    "    json.dump(vin_list, outfile)"
   ]
  },
  {
   "cell_type": "markdown",
   "id": "SqgfsQliafrF",
   "metadata": {
    "id": "SqgfsQliafrF"
   },
   "source": [
    "0U1H5DVHG64844884 \n",
    "0U1H5DVHG64844884"
   ]
  },
  {
   "cell_type": "code",
   "execution_count": null,
   "id": "hOyLUYXKXf68",
   "metadata": {
    "colab": {
     "base_uri": "https://localhost:8080/"
    },
    "id": "hOyLUYXKXf68",
    "outputId": "b47004f4-a858-42b2-eb91-320fd873c1b1"
   },
   "outputs": [
    {
     "data": {
      "text/plain": [
       "1"
      ]
     },
     "execution_count": 165,
     "metadata": {},
     "output_type": "execute_result"
    }
   ],
   "source": [
    "len(vin_list)"
   ]
  },
  {
   "cell_type": "code",
   "execution_count": null,
   "id": "u7xYvM4dnsYH",
   "metadata": {
    "colab": {
     "base_uri": "https://localhost:8080/",
     "height": 121,
     "referenced_widgets": [
      "9f79a8f4dc274cc1873917c7adb3e426",
      "5a0ef775fe87478f9675e97466e633dc",
      "4b18fa241a9c4450aa9092d016595402",
      "5a722e5fd92a4c208785346c12b255a9",
      "6593fc96fcbf4c59bd1612aa13cacc02",
      "f4c628247b60488ab2000e082202aa0b",
      "27b9d777ec5c4dc6a45f3d1eb874e662",
      "1f989f81e3e14ccfb2b21efc8b84c8a3",
      "cab809f50c514b48a91f550f9da78727",
      "29c41342420447cb9d82d5865c0fa548",
      "b873a2b1e62045eb95abf9f496429689",
      "63bce938b74d4228911a2b743bac6477",
      "bd0bc4c320584cc49d523b255084d4c0",
      "f8ccd567c2324a999fe707f92b6d1f90",
      "f6019c237c344f02b0a1cefb9de37d4d",
      "f1558eed4b734603b656f233b3c8164f",
      "f602303226f142c4a3c509429ac91833",
      "55a9a583c52c4782acfa0fe205d7cf35",
      "2502860da57c46078f720f12fdc3d51f",
      "57a611f517d54ad0a2171b6dad348723",
      "68995e3091fe48a58befbcf551c17dd6",
      "f005f736bcbc4bd1b57139cf42a2bc1a",
      "08bbe563d67a46ff95caa36e048ebef6",
      "8a8990d671ab4a1bb5c9cbe195bd796b",
      "940aa86689bb41a9a24a768b18bc9e65",
      "0af23abe67664fb59bd1ea05f60a0768",
      "e57703e8cd6240349721d3ea57b4c687",
      "0de257e6d6dd42d0a0331655515044d9",
      "a277c76f62e04618b382df88aeb34450",
      "b4438a0950bf44e79370162843397d0c",
      "c47a3afb8ad543d8b31f9a4aa99d03c5",
      "e3a02a15133d4e2c92bfa7700cf68e5f",
      "85f58d7420f04f2aae709643c0e32ebb",
      "5c4bc674f8d045b9bce3b24d3fb19f2d",
      "a917d3deaa064ee0908fc9a65903d57a",
      "a4b39327ab6e472a92de46d16aa9552d",
      "bfaab26ec8da4a4ca4267f06e109eacc",
      "8e2fae16013241138e9c7dbf0b029296",
      "e52afffb4d2548f396bc08ca958bb25f",
      "3b20a5ae5bae4f8f951fbfedda0fd396",
      "1bc76c059b7c42be94b10f13e78b14a2",
      "60e1ef124314423882625a4276281c1d",
      "d28da86199934d04a6d8bcf039f8af29",
      "310abbd5f77f4bdb8a54dead6bc14ab3"
     ]
    },
    "id": "u7xYvM4dnsYH",
    "outputId": "703915d8-3b1f-4621-cdbf-16e597cbec34"
   },
   "outputs": [
    {
     "name": "stdout",
     "output_type": "stream",
     "text": [
      "[Errno 2] No such file or directory: '/content/drive/MyDrive/vin_test/'\n",
      "/content\n"
     ]
    },
    {
     "data": {
      "application/vnd.jupyter.widget-view+json": {
       "model_id": "9f79a8f4dc274cc1873917c7adb3e426",
       "version_major": 2,
       "version_minor": 0
      },
      "text/plain": [
       "First Octet:   0%|          | 0/1 [00:00<?, ?it/s]"
      ]
     },
     "metadata": {},
     "output_type": "display_data"
    },
    {
     "data": {
      "application/vnd.jupyter.widget-view+json": {
       "model_id": "63bce938b74d4228911a2b743bac6477",
       "version_major": 2,
       "version_minor": 0
      },
      "text/plain": [
       "Second Octet:   0%|          | 0/2 [00:00<?, ?it/s]"
      ]
     },
     "metadata": {},
     "output_type": "display_data"
    },
    {
     "data": {
      "application/vnd.jupyter.widget-view+json": {
       "model_id": "08bbe563d67a46ff95caa36e048ebef6",
       "version_major": 2,
       "version_minor": 0
      },
      "text/plain": [
       "Third Octet:   0%|          | 0/6 [00:00<?, ?it/s]"
      ]
     },
     "metadata": {},
     "output_type": "display_data"
    },
    {
     "data": {
      "application/vnd.jupyter.widget-view+json": {
       "model_id": "5c4bc674f8d045b9bce3b24d3fb19f2d",
       "version_major": 2,
       "version_minor": 0
      },
      "text/plain": [
       "Third Octet:   0%|          | 0/3 [00:00<?, ?it/s]"
      ]
     },
     "metadata": {},
     "output_type": "display_data"
    },
    {
     "name": "stdout",
     "output_type": "stream",
     "text": [
      "{'vin_12': 'VFARJA00766998704', 'Manufacturer': 'Ste Des Automobiles Alpine Renault', 'Adress_line_1': 'Avenue De Breaute', 'Adress_line_2': '76200 Dieppe', 'Region': 'Europe', 'Country': 'France', 'Note': 'Manufacturer builds more than 500 vehicles per year', 'Make': 'Renault', 'Model_year': '2006', 'Manufactured_in': 'France'}\n"
     ]
    }
   ],
   "source": [
    "%cd /content/drive/MyDrive/vin_test/\n",
    "nb=0\n",
    "n={'Adress line 1':'Adress_line_1', 'Adress line 2':'Adress_line_2',\n",
    "       'Model year':'Model_year','Trim level':'Trim_level', 'Body style':'Body_style', 'Engine type':'Engine_type',\n",
    "                   'Fuel type':'Fuel_type','Vehicle class':'Vehicle_class', 'Vehicle type':'Vehicle_type',\n",
    "                   'Manufactured in':'Manufactured_in', 'Assembly plant':'Assembly_plant'}\n",
    "import pandas as pd\n",
    "df_vin=pd.read_json(r'/content/vin_res.json',orient='records') \n",
    "from tqdm.notebook import tqdm\n",
    "import json\n",
    "from urllib.request import urlopen as uReq\n",
    "from bs4 import BeautifulSoup as soup\n",
    "vin=list()\n",
    "for i in tqdm(df_vin[0], desc='First Octet'): # df_vin['vin_11'][nb:nb+20] vin_ok\n",
    "  d={}\n",
    "  d={'vin_12':i,\n",
    "      # 'vin_11':i[:11],\n",
    "      # 'vin_pref':i[:8]+i[9]\n",
    "      }\n",
    "  quotes_page='https://vindecoder.pl/'+i\n",
    "  uClient=uReq(quotes_page)\n",
    "  page_html = uClient.read()\n",
    "  uClient.close()\n",
    "  page_soup = soup(page_html, 'html.parser')\n",
    "  tab= page_soup.findAll('table' ,attrs={'class':\"table table-striped table-two-col\"})\n",
    "  for quote in tqdm(tab[:3:2], desc='Second Octet',leave=False):\n",
    "    for j in tqdm(quote, desc='Third Octet',leave=False):\n",
    "      if str(j.find('th').text.strip()) in n.keys():\n",
    "        d[n.get(j.find('th').text.strip())]=j.find('td').text.strip()\n",
    "      else:\n",
    "        d[j.find('th').text.strip()]=j.find('td').text.strip()\n",
    "  vin.append(d)\n",
    "print(d)\n",
    "with open('/content/vin_11_tempV5_test.json', 'w') as outfile:# a w\n",
    "    json.dump(vin, outfile)\n"
   ]
  },
  {
   "cell_type": "code",
   "execution_count": null,
   "id": "D1Ak-L9Sv0-s",
   "metadata": {
    "colab": {
     "base_uri": "https://localhost:8080/",
     "height": 214
    },
    "id": "D1Ak-L9Sv0-s",
    "outputId": "e2d21639-3664-42f0-ea06-88e41f62376f"
   },
   "outputs": [
    {
     "data": {
      "text/html": [
       "\n",
       "  <div id=\"df-e0961349-fcef-4a1c-a433-13c92f9917f1\">\n",
       "    <div class=\"colab-df-container\">\n",
       "      <div>\n",
       "<style scoped>\n",
       "    .dataframe tbody tr th:only-of-type {\n",
       "        vertical-align: middle;\n",
       "    }\n",
       "\n",
       "    .dataframe tbody tr th {\n",
       "        vertical-align: top;\n",
       "    }\n",
       "\n",
       "    .dataframe thead th {\n",
       "        text-align: right;\n",
       "    }\n",
       "</style>\n",
       "<table border=\"1\" class=\"dataframe\">\n",
       "  <thead>\n",
       "    <tr style=\"text-align: right;\">\n",
       "      <th></th>\n",
       "      <th>vin_12</th>\n",
       "      <th>Manufacturer</th>\n",
       "      <th>Adress_line_1</th>\n",
       "      <th>Adress_line_2</th>\n",
       "      <th>Region</th>\n",
       "      <th>Country</th>\n",
       "      <th>Note</th>\n",
       "      <th>Make</th>\n",
       "      <th>Model_year</th>\n",
       "      <th>Manufactured_in</th>\n",
       "    </tr>\n",
       "  </thead>\n",
       "  <tbody>\n",
       "    <tr>\n",
       "      <th>0</th>\n",
       "      <td>VFARJA00766998704</td>\n",
       "      <td>Ste Des Automobiles Alpine Renault</td>\n",
       "      <td>Avenue De Breaute</td>\n",
       "      <td>76200 Dieppe</td>\n",
       "      <td>Europe</td>\n",
       "      <td>France</td>\n",
       "      <td>Manufacturer builds more than 500 vehicles per...</td>\n",
       "      <td>Renault</td>\n",
       "      <td>2006</td>\n",
       "      <td>France</td>\n",
       "    </tr>\n",
       "  </tbody>\n",
       "</table>\n",
       "</div>\n",
       "      <button class=\"colab-df-convert\" onclick=\"convertToInteractive('df-e0961349-fcef-4a1c-a433-13c92f9917f1')\"\n",
       "              title=\"Convert this dataframe to an interactive table.\"\n",
       "              style=\"display:none;\">\n",
       "        \n",
       "  <svg xmlns=\"http://www.w3.org/2000/svg\" height=\"24px\"viewBox=\"0 0 24 24\"\n",
       "       width=\"24px\">\n",
       "    <path d=\"M0 0h24v24H0V0z\" fill=\"none\"/>\n",
       "    <path d=\"M18.56 5.44l.94 2.06.94-2.06 2.06-.94-2.06-.94-.94-2.06-.94 2.06-2.06.94zm-11 1L8.5 8.5l.94-2.06 2.06-.94-2.06-.94L8.5 2.5l-.94 2.06-2.06.94zm10 10l.94 2.06.94-2.06 2.06-.94-2.06-.94-.94-2.06-.94 2.06-2.06.94z\"/><path d=\"M17.41 7.96l-1.37-1.37c-.4-.4-.92-.59-1.43-.59-.52 0-1.04.2-1.43.59L10.3 9.45l-7.72 7.72c-.78.78-.78 2.05 0 2.83L4 21.41c.39.39.9.59 1.41.59.51 0 1.02-.2 1.41-.59l7.78-7.78 2.81-2.81c.8-.78.8-2.07 0-2.86zM5.41 20L4 18.59l7.72-7.72 1.47 1.35L5.41 20z\"/>\n",
       "  </svg>\n",
       "      </button>\n",
       "      \n",
       "  <style>\n",
       "    .colab-df-container {\n",
       "      display:flex;\n",
       "      flex-wrap:wrap;\n",
       "      gap: 12px;\n",
       "    }\n",
       "\n",
       "    .colab-df-convert {\n",
       "      background-color: #E8F0FE;\n",
       "      border: none;\n",
       "      border-radius: 50%;\n",
       "      cursor: pointer;\n",
       "      display: none;\n",
       "      fill: #1967D2;\n",
       "      height: 32px;\n",
       "      padding: 0 0 0 0;\n",
       "      width: 32px;\n",
       "    }\n",
       "\n",
       "    .colab-df-convert:hover {\n",
       "      background-color: #E2EBFA;\n",
       "      box-shadow: 0px 1px 2px rgba(60, 64, 67, 0.3), 0px 1px 3px 1px rgba(60, 64, 67, 0.15);\n",
       "      fill: #174EA6;\n",
       "    }\n",
       "\n",
       "    [theme=dark] .colab-df-convert {\n",
       "      background-color: #3B4455;\n",
       "      fill: #D2E3FC;\n",
       "    }\n",
       "\n",
       "    [theme=dark] .colab-df-convert:hover {\n",
       "      background-color: #434B5C;\n",
       "      box-shadow: 0px 1px 3px 1px rgba(0, 0, 0, 0.15);\n",
       "      filter: drop-shadow(0px 1px 2px rgba(0, 0, 0, 0.3));\n",
       "      fill: #FFFFFF;\n",
       "    }\n",
       "  </style>\n",
       "\n",
       "      <script>\n",
       "        const buttonEl =\n",
       "          document.querySelector('#df-e0961349-fcef-4a1c-a433-13c92f9917f1 button.colab-df-convert');\n",
       "        buttonEl.style.display =\n",
       "          google.colab.kernel.accessAllowed ? 'block' : 'none';\n",
       "\n",
       "        async function convertToInteractive(key) {\n",
       "          const element = document.querySelector('#df-e0961349-fcef-4a1c-a433-13c92f9917f1');\n",
       "          const dataTable =\n",
       "            await google.colab.kernel.invokeFunction('convertToInteractive',\n",
       "                                                     [key], {});\n",
       "          if (!dataTable) return;\n",
       "\n",
       "          const docLinkHtml = 'Like what you see? Visit the ' +\n",
       "            '<a target=\"_blank\" href=https://colab.research.google.com/notebooks/data_table.ipynb>data table notebook</a>'\n",
       "            + ' to learn more about interactive tables.';\n",
       "          element.innerHTML = '';\n",
       "          dataTable['output_type'] = 'display_data';\n",
       "          await google.colab.output.renderOutput(dataTable, element);\n",
       "          const docLink = document.createElement('div');\n",
       "          docLink.innerHTML = docLinkHtml;\n",
       "          element.appendChild(docLink);\n",
       "        }\n",
       "      </script>\n",
       "    </div>\n",
       "  </div>\n",
       "  "
      ],
      "text/plain": [
       "              vin_12                        Manufacturer      Adress_line_1  \\\n",
       "0  VFARJA00766998704  Ste Des Automobiles Alpine Renault  Avenue De Breaute   \n",
       "\n",
       "  Adress_line_2  Region Country  \\\n",
       "0  76200 Dieppe  Europe  France   \n",
       "\n",
       "                                                Note     Make  Model_year  \\\n",
       "0  Manufacturer builds more than 500 vehicles per...  Renault        2006   \n",
       "\n",
       "  Manufactured_in  \n",
       "0          France  "
      ]
     },
     "execution_count": 167,
     "metadata": {},
     "output_type": "execute_result"
    }
   ],
   "source": [
    "import pandas as pd\n",
    "df_vin_res=pd.read_json(r'/content/vin_11_tempV5_test.json',orient='records')\n",
    "df_vin_res"
   ]
  },
  {
   "cell_type": "markdown",
   "id": "fBKeI2vzrMtW",
   "metadata": {
    "id": "fBKeI2vzrMtW"
   },
   "source": [
    "# shutdown the colab notebook inorder to change the IP"
   ]
  },
  {
   "cell_type": "code",
   "execution_count": null,
   "id": "mLNNunvdLieC",
   "metadata": {
    "id": "mLNNunvdLieC"
   },
   "outputs": [],
   "source": [
    "!kill -9 -1"
   ]
  },
  {
   "cell_type": "markdown",
   "id": "2Kdh8162rY8u",
   "metadata": {
    "id": "2Kdh8162rY8u"
   },
   "source": [
    "# Will be updated"
   ]
  },
  {
   "cell_type": "code",
   "execution_count": null,
   "id": "biological-attack",
   "metadata": {
    "id": "biological-attack"
   },
   "outputs": [],
   "source": [
    "img_1 = cv2.imread(im_1_path)\n",
    "img_1 = cv2.cvtColor(img_1, cv2.COLOR_BGR2RGB)\n",
    "plt.imshow(img_1)\n",
    "#49HA036784AUZZZF\n",
    "#VF3MJAHXNNS227409 4 6 7 5"
   ]
  },
  {
   "cell_type": "markdown",
   "id": "proper-lindsay",
   "metadata": {
    "id": "proper-lindsay"
   },
   "source": [
    "### Overlay recognized text on image using OpenCV"
   ]
  },
  {
   "cell_type": "code",
   "execution_count": null,
   "id": "adequate-typing",
   "metadata": {
    "id": "adequate-typing"
   },
   "outputs": [],
   "source": [
    "def overlay_ocr_text(img_path, save_name):\n",
    "    '''loads an image, recognizes text, and overlays the text on the image.'''\n",
    "    \n",
    "    # loads image\n",
    "    img = cv2.imread(img_path)\n",
    "    img = cv2.cvtColor(img, cv2.COLOR_BGR2RGB)\n",
    "    \n",
    "    dpi = 80\n",
    "    fig_width, fig_height = int(img.shape[0]/dpi), int(img.shape[1]/dpi)\n",
    "    plt.figure()\n",
    "    f, axarr = plt.subplots(1,2, figsize=(fig_width, fig_height)) \n",
    "    axarr[0].imshow(img)\n",
    "    \n",
    "    # recognize text\n",
    "    result = recognize_text(img_path)\n",
    "\n",
    "    # if OCR prob is over 0.5, overlay bounding box and text\n",
    "    for (bbox, text, prob) in result:\n",
    "        if prob >= 0.5:\n",
    "            # display \n",
    "            print(f'Detected text: {text} (Probability: {prob:.2f})')\n",
    "\n",
    "            # get top-left and bottom-right bbox vertices\n",
    "            (top_left, top_right, bottom_right, bottom_left) = bbox\n",
    "            top_left = (int(top_left[0]), int(top_left[1]))\n",
    "            bottom_right = (int(bottom_right[0]), int(bottom_right[1]))\n",
    "\n",
    "            # create a rectangle for bbox display\n",
    "            cv2.rectangle(img=img, pt1=top_left, pt2=bottom_right, color=(255, 0, 0), thickness=10)\n",
    "\n",
    "            # put recognized text\n",
    "            cv2.putText(img=img, text=text, org=(top_left[0], top_left[1] - 10), fontFace=cv2.FONT_HERSHEY_SIMPLEX, fontScale=1, color=(255, 0, 0), thickness=8)\n",
    "        \n",
    "    # show and save image\n",
    "    axarr[1].imshow(img)\n",
    "    plt.savefig(f'./output/{save_name}_overlay.jpg', bbox_inches='tight')"
   ]
  },
  {
   "cell_type": "code",
   "execution_count": null,
   "id": "coupled-lucas",
   "metadata": {
    "id": "coupled-lucas"
   },
   "outputs": [],
   "source": [
    "overlay_ocr_text(im_1_path, '1_carplate')"
   ]
  },
  {
   "cell_type": "markdown",
   "id": "careful-outreach",
   "metadata": {
    "id": "careful-outreach"
   },
   "source": [
    "## Text-to-speech recognition "
   ]
  },
  {
   "cell_type": "code",
   "execution_count": null,
   "id": "random-stock",
   "metadata": {
    "id": "random-stock"
   },
   "outputs": [],
   "source": [
    "!pip install pyttsx3"
   ]
  },
  {
   "cell_type": "code",
   "execution_count": null,
   "id": "changed-peeing",
   "metadata": {
    "id": "changed-peeing"
   },
   "outputs": [],
   "source": [
    "result = recognize_text(im_1_path)\n",
    "\n",
    "sentence = ''\n",
    "for (bbox, text, prob) in result:\n",
    "    sentence += f'{text} '\n",
    "print(sentence)"
   ]
  },
  {
   "cell_type": "code",
   "execution_count": null,
   "id": "QxdlKZVUGEa2",
   "metadata": {
    "id": "QxdlKZVUGEa2"
   },
   "outputs": [],
   "source": [
    "!pip install pyttsx3"
   ]
  },
  {
   "cell_type": "code",
   "execution_count": null,
   "id": "acute-midnight",
   "metadata": {
    "id": "acute-midnight"
   },
   "outputs": [],
   "source": [
    "import pyttsx3\n",
    "\n",
    "engine = pyttsx3.init()\n",
    "engine.setProperty('rate', 100)\n",
    "engine.say(sentence)\n",
    "engine.runAndWait()"
   ]
  },
  {
   "cell_type": "code",
   "execution_count": null,
   "id": "YbaQ_uPmGloF",
   "metadata": {
    "id": "YbaQ_uPmGloF"
   },
   "outputs": [],
   "source": [
    "res = engine.say(sentence)"
   ]
  },
  {
   "cell_type": "code",
   "execution_count": null,
   "id": "wt2ELuBeG9UV",
   "metadata": {
    "id": "wt2ELuBeG9UV"
   },
   "outputs": [],
   "source": [
    "res"
   ]
  },
  {
   "cell_type": "code",
   "execution_count": null,
   "id": "mental-applicant",
   "metadata": {
    "id": "mental-applicant"
   },
   "outputs": [],
   "source": [
    "!sudo apt-get update && sudo apt-get install espeak"
   ]
  }
 ],
 "metadata": {
  "colab": {
   "collapsed_sections": [],
   "name": "VIN_Recognition_using_OpenCV_and_EasyOCR.ipynb",
   "provenance": []
  },
  "interpreter": {
   "hash": "95fb35fe50d14bc6d2e64d75b247172a88c44bfae4813c053a06c0eb2d5c5210"
  },
  "kernelspec": {
   "display_name": "Python 3 (ipykernel)",
   "language": "python",
   "name": "python3"
  },
  "language_info": {
   "codemirror_mode": {
    "name": "ipython",
    "version": 3
   },
   "file_extension": ".py",
   "mimetype": "text/x-python",
   "name": "python",
   "nbconvert_exporter": "python",
   "pygments_lexer": "ipython3",
   "version": "3.9.7"
  },
  "widgets": {
   "application/vnd.jupyter.widget-state+json": {
    "08bbe563d67a46ff95caa36e048ebef6": {
     "model_module": "@jupyter-widgets/controls",
     "model_module_version": "1.5.0",
     "model_name": "HBoxModel",
     "state": {
      "_dom_classes": [],
      "_model_module": "@jupyter-widgets/controls",
      "_model_module_version": "1.5.0",
      "_model_name": "HBoxModel",
      "_view_count": null,
      "_view_module": "@jupyter-widgets/controls",
      "_view_module_version": "1.5.0",
      "_view_name": "HBoxView",
      "box_style": "",
      "children": [
       "IPY_MODEL_8a8990d671ab4a1bb5c9cbe195bd796b",
       "IPY_MODEL_940aa86689bb41a9a24a768b18bc9e65",
       "IPY_MODEL_0af23abe67664fb59bd1ea05f60a0768"
      ],
      "layout": "IPY_MODEL_e57703e8cd6240349721d3ea57b4c687"
     }
    },
    "0af23abe67664fb59bd1ea05f60a0768": {
     "model_module": "@jupyter-widgets/controls",
     "model_module_version": "1.5.0",
     "model_name": "HTMLModel",
     "state": {
      "_dom_classes": [],
      "_model_module": "@jupyter-widgets/controls",
      "_model_module_version": "1.5.0",
      "_model_name": "HTMLModel",
      "_view_count": null,
      "_view_module": "@jupyter-widgets/controls",
      "_view_module_version": "1.5.0",
      "_view_name": "HTMLView",
      "description": "",
      "description_tooltip": null,
      "layout": "IPY_MODEL_e3a02a15133d4e2c92bfa7700cf68e5f",
      "placeholder": "​",
      "style": "IPY_MODEL_85f58d7420f04f2aae709643c0e32ebb",
      "value": " 0/6 [00:00&lt;?, ?it/s]"
     }
    },
    "0de257e6d6dd42d0a0331655515044d9": {
     "model_module": "@jupyter-widgets/base",
     "model_module_version": "1.2.0",
     "model_name": "LayoutModel",
     "state": {
      "_model_module": "@jupyter-widgets/base",
      "_model_module_version": "1.2.0",
      "_model_name": "LayoutModel",
      "_view_count": null,
      "_view_module": "@jupyter-widgets/base",
      "_view_module_version": "1.2.0",
      "_view_name": "LayoutView",
      "align_content": null,
      "align_items": null,
      "align_self": null,
      "border": null,
      "bottom": null,
      "display": null,
      "flex": null,
      "flex_flow": null,
      "grid_area": null,
      "grid_auto_columns": null,
      "grid_auto_flow": null,
      "grid_auto_rows": null,
      "grid_column": null,
      "grid_gap": null,
      "grid_row": null,
      "grid_template_areas": null,
      "grid_template_columns": null,
      "grid_template_rows": null,
      "height": null,
      "justify_content": null,
      "justify_items": null,
      "left": null,
      "margin": null,
      "max_height": null,
      "max_width": null,
      "min_height": null,
      "min_width": null,
      "object_fit": null,
      "object_position": null,
      "order": null,
      "overflow": null,
      "overflow_x": null,
      "overflow_y": null,
      "padding": null,
      "right": null,
      "top": null,
      "visibility": null,
      "width": null
     }
    },
    "1bc76c059b7c42be94b10f13e78b14a2": {
     "model_module": "@jupyter-widgets/base",
     "model_module_version": "1.2.0",
     "model_name": "LayoutModel",
     "state": {
      "_model_module": "@jupyter-widgets/base",
      "_model_module_version": "1.2.0",
      "_model_name": "LayoutModel",
      "_view_count": null,
      "_view_module": "@jupyter-widgets/base",
      "_view_module_version": "1.2.0",
      "_view_name": "LayoutView",
      "align_content": null,
      "align_items": null,
      "align_self": null,
      "border": null,
      "bottom": null,
      "display": null,
      "flex": null,
      "flex_flow": null,
      "grid_area": null,
      "grid_auto_columns": null,
      "grid_auto_flow": null,
      "grid_auto_rows": null,
      "grid_column": null,
      "grid_gap": null,
      "grid_row": null,
      "grid_template_areas": null,
      "grid_template_columns": null,
      "grid_template_rows": null,
      "height": null,
      "justify_content": null,
      "justify_items": null,
      "left": null,
      "margin": null,
      "max_height": null,
      "max_width": null,
      "min_height": null,
      "min_width": null,
      "object_fit": null,
      "object_position": null,
      "order": null,
      "overflow": null,
      "overflow_x": null,
      "overflow_y": null,
      "padding": null,
      "right": null,
      "top": null,
      "visibility": null,
      "width": null
     }
    },
    "1f989f81e3e14ccfb2b21efc8b84c8a3": {
     "model_module": "@jupyter-widgets/base",
     "model_module_version": "1.2.0",
     "model_name": "LayoutModel",
     "state": {
      "_model_module": "@jupyter-widgets/base",
      "_model_module_version": "1.2.0",
      "_model_name": "LayoutModel",
      "_view_count": null,
      "_view_module": "@jupyter-widgets/base",
      "_view_module_version": "1.2.0",
      "_view_name": "LayoutView",
      "align_content": null,
      "align_items": null,
      "align_self": null,
      "border": null,
      "bottom": null,
      "display": null,
      "flex": null,
      "flex_flow": null,
      "grid_area": null,
      "grid_auto_columns": null,
      "grid_auto_flow": null,
      "grid_auto_rows": null,
      "grid_column": null,
      "grid_gap": null,
      "grid_row": null,
      "grid_template_areas": null,
      "grid_template_columns": null,
      "grid_template_rows": null,
      "height": null,
      "justify_content": null,
      "justify_items": null,
      "left": null,
      "margin": null,
      "max_height": null,
      "max_width": null,
      "min_height": null,
      "min_width": null,
      "object_fit": null,
      "object_position": null,
      "order": null,
      "overflow": null,
      "overflow_x": null,
      "overflow_y": null,
      "padding": null,
      "right": null,
      "top": null,
      "visibility": null,
      "width": null
     }
    },
    "2502860da57c46078f720f12fdc3d51f": {
     "model_module": "@jupyter-widgets/base",
     "model_module_version": "1.2.0",
     "model_name": "LayoutModel",
     "state": {
      "_model_module": "@jupyter-widgets/base",
      "_model_module_version": "1.2.0",
      "_model_name": "LayoutModel",
      "_view_count": null,
      "_view_module": "@jupyter-widgets/base",
      "_view_module_version": "1.2.0",
      "_view_name": "LayoutView",
      "align_content": null,
      "align_items": null,
      "align_self": null,
      "border": null,
      "bottom": null,
      "display": null,
      "flex": null,
      "flex_flow": null,
      "grid_area": null,
      "grid_auto_columns": null,
      "grid_auto_flow": null,
      "grid_auto_rows": null,
      "grid_column": null,
      "grid_gap": null,
      "grid_row": null,
      "grid_template_areas": null,
      "grid_template_columns": null,
      "grid_template_rows": null,
      "height": null,
      "justify_content": null,
      "justify_items": null,
      "left": null,
      "margin": null,
      "max_height": null,
      "max_width": null,
      "min_height": null,
      "min_width": null,
      "object_fit": null,
      "object_position": null,
      "order": null,
      "overflow": null,
      "overflow_x": null,
      "overflow_y": null,
      "padding": null,
      "right": null,
      "top": null,
      "visibility": null,
      "width": null
     }
    },
    "27b9d777ec5c4dc6a45f3d1eb874e662": {
     "model_module": "@jupyter-widgets/controls",
     "model_module_version": "1.5.0",
     "model_name": "DescriptionStyleModel",
     "state": {
      "_model_module": "@jupyter-widgets/controls",
      "_model_module_version": "1.5.0",
      "_model_name": "DescriptionStyleModel",
      "_view_count": null,
      "_view_module": "@jupyter-widgets/base",
      "_view_module_version": "1.2.0",
      "_view_name": "StyleView",
      "description_width": ""
     }
    },
    "29c41342420447cb9d82d5865c0fa548": {
     "model_module": "@jupyter-widgets/base",
     "model_module_version": "1.2.0",
     "model_name": "LayoutModel",
     "state": {
      "_model_module": "@jupyter-widgets/base",
      "_model_module_version": "1.2.0",
      "_model_name": "LayoutModel",
      "_view_count": null,
      "_view_module": "@jupyter-widgets/base",
      "_view_module_version": "1.2.0",
      "_view_name": "LayoutView",
      "align_content": null,
      "align_items": null,
      "align_self": null,
      "border": null,
      "bottom": null,
      "display": null,
      "flex": null,
      "flex_flow": null,
      "grid_area": null,
      "grid_auto_columns": null,
      "grid_auto_flow": null,
      "grid_auto_rows": null,
      "grid_column": null,
      "grid_gap": null,
      "grid_row": null,
      "grid_template_areas": null,
      "grid_template_columns": null,
      "grid_template_rows": null,
      "height": null,
      "justify_content": null,
      "justify_items": null,
      "left": null,
      "margin": null,
      "max_height": null,
      "max_width": null,
      "min_height": null,
      "min_width": null,
      "object_fit": null,
      "object_position": null,
      "order": null,
      "overflow": null,
      "overflow_x": null,
      "overflow_y": null,
      "padding": null,
      "right": null,
      "top": null,
      "visibility": null,
      "width": null
     }
    },
    "310abbd5f77f4bdb8a54dead6bc14ab3": {
     "model_module": "@jupyter-widgets/controls",
     "model_module_version": "1.5.0",
     "model_name": "DescriptionStyleModel",
     "state": {
      "_model_module": "@jupyter-widgets/controls",
      "_model_module_version": "1.5.0",
      "_model_name": "DescriptionStyleModel",
      "_view_count": null,
      "_view_module": "@jupyter-widgets/base",
      "_view_module_version": "1.2.0",
      "_view_name": "StyleView",
      "description_width": ""
     }
    },
    "3b20a5ae5bae4f8f951fbfedda0fd396": {
     "model_module": "@jupyter-widgets/controls",
     "model_module_version": "1.5.0",
     "model_name": "DescriptionStyleModel",
     "state": {
      "_model_module": "@jupyter-widgets/controls",
      "_model_module_version": "1.5.0",
      "_model_name": "DescriptionStyleModel",
      "_view_count": null,
      "_view_module": "@jupyter-widgets/base",
      "_view_module_version": "1.2.0",
      "_view_name": "StyleView",
      "description_width": ""
     }
    },
    "4b18fa241a9c4450aa9092d016595402": {
     "model_module": "@jupyter-widgets/controls",
     "model_module_version": "1.5.0",
     "model_name": "FloatProgressModel",
     "state": {
      "_dom_classes": [],
      "_model_module": "@jupyter-widgets/controls",
      "_model_module_version": "1.5.0",
      "_model_name": "FloatProgressModel",
      "_view_count": null,
      "_view_module": "@jupyter-widgets/controls",
      "_view_module_version": "1.5.0",
      "_view_name": "ProgressView",
      "bar_style": "success",
      "description": "",
      "description_tooltip": null,
      "layout": "IPY_MODEL_1f989f81e3e14ccfb2b21efc8b84c8a3",
      "max": 1,
      "min": 0,
      "orientation": "horizontal",
      "style": "IPY_MODEL_cab809f50c514b48a91f550f9da78727",
      "value": 1
     }
    },
    "55a9a583c52c4782acfa0fe205d7cf35": {
     "model_module": "@jupyter-widgets/controls",
     "model_module_version": "1.5.0",
     "model_name": "DescriptionStyleModel",
     "state": {
      "_model_module": "@jupyter-widgets/controls",
      "_model_module_version": "1.5.0",
      "_model_name": "DescriptionStyleModel",
      "_view_count": null,
      "_view_module": "@jupyter-widgets/base",
      "_view_module_version": "1.2.0",
      "_view_name": "StyleView",
      "description_width": ""
     }
    },
    "57a611f517d54ad0a2171b6dad348723": {
     "model_module": "@jupyter-widgets/controls",
     "model_module_version": "1.5.0",
     "model_name": "ProgressStyleModel",
     "state": {
      "_model_module": "@jupyter-widgets/controls",
      "_model_module_version": "1.5.0",
      "_model_name": "ProgressStyleModel",
      "_view_count": null,
      "_view_module": "@jupyter-widgets/base",
      "_view_module_version": "1.2.0",
      "_view_name": "StyleView",
      "bar_color": null,
      "description_width": ""
     }
    },
    "5a0ef775fe87478f9675e97466e633dc": {
     "model_module": "@jupyter-widgets/controls",
     "model_module_version": "1.5.0",
     "model_name": "HTMLModel",
     "state": {
      "_dom_classes": [],
      "_model_module": "@jupyter-widgets/controls",
      "_model_module_version": "1.5.0",
      "_model_name": "HTMLModel",
      "_view_count": null,
      "_view_module": "@jupyter-widgets/controls",
      "_view_module_version": "1.5.0",
      "_view_name": "HTMLView",
      "description": "",
      "description_tooltip": null,
      "layout": "IPY_MODEL_f4c628247b60488ab2000e082202aa0b",
      "placeholder": "​",
      "style": "IPY_MODEL_27b9d777ec5c4dc6a45f3d1eb874e662",
      "value": "First Octet: 100%"
     }
    },
    "5a722e5fd92a4c208785346c12b255a9": {
     "model_module": "@jupyter-widgets/controls",
     "model_module_version": "1.5.0",
     "model_name": "HTMLModel",
     "state": {
      "_dom_classes": [],
      "_model_module": "@jupyter-widgets/controls",
      "_model_module_version": "1.5.0",
      "_model_name": "HTMLModel",
      "_view_count": null,
      "_view_module": "@jupyter-widgets/controls",
      "_view_module_version": "1.5.0",
      "_view_name": "HTMLView",
      "description": "",
      "description_tooltip": null,
      "layout": "IPY_MODEL_29c41342420447cb9d82d5865c0fa548",
      "placeholder": "​",
      "style": "IPY_MODEL_b873a2b1e62045eb95abf9f496429689",
      "value": " 1/1 [00:05&lt;00:00,  5.98s/it]"
     }
    },
    "5c4bc674f8d045b9bce3b24d3fb19f2d": {
     "model_module": "@jupyter-widgets/controls",
     "model_module_version": "1.5.0",
     "model_name": "HBoxModel",
     "state": {
      "_dom_classes": [],
      "_model_module": "@jupyter-widgets/controls",
      "_model_module_version": "1.5.0",
      "_model_name": "HBoxModel",
      "_view_count": null,
      "_view_module": "@jupyter-widgets/controls",
      "_view_module_version": "1.5.0",
      "_view_name": "HBoxView",
      "box_style": "",
      "children": [
       "IPY_MODEL_a917d3deaa064ee0908fc9a65903d57a",
       "IPY_MODEL_a4b39327ab6e472a92de46d16aa9552d",
       "IPY_MODEL_bfaab26ec8da4a4ca4267f06e109eacc"
      ],
      "layout": "IPY_MODEL_8e2fae16013241138e9c7dbf0b029296"
     }
    },
    "60e1ef124314423882625a4276281c1d": {
     "model_module": "@jupyter-widgets/controls",
     "model_module_version": "1.5.0",
     "model_name": "ProgressStyleModel",
     "state": {
      "_model_module": "@jupyter-widgets/controls",
      "_model_module_version": "1.5.0",
      "_model_name": "ProgressStyleModel",
      "_view_count": null,
      "_view_module": "@jupyter-widgets/base",
      "_view_module_version": "1.2.0",
      "_view_name": "StyleView",
      "bar_color": null,
      "description_width": ""
     }
    },
    "63bce938b74d4228911a2b743bac6477": {
     "model_module": "@jupyter-widgets/controls",
     "model_module_version": "1.5.0",
     "model_name": "HBoxModel",
     "state": {
      "_dom_classes": [],
      "_model_module": "@jupyter-widgets/controls",
      "_model_module_version": "1.5.0",
      "_model_name": "HBoxModel",
      "_view_count": null,
      "_view_module": "@jupyter-widgets/controls",
      "_view_module_version": "1.5.0",
      "_view_name": "HBoxView",
      "box_style": "",
      "children": [
       "IPY_MODEL_bd0bc4c320584cc49d523b255084d4c0",
       "IPY_MODEL_f8ccd567c2324a999fe707f92b6d1f90",
       "IPY_MODEL_f6019c237c344f02b0a1cefb9de37d4d"
      ],
      "layout": "IPY_MODEL_f1558eed4b734603b656f233b3c8164f"
     }
    },
    "6593fc96fcbf4c59bd1612aa13cacc02": {
     "model_module": "@jupyter-widgets/base",
     "model_module_version": "1.2.0",
     "model_name": "LayoutModel",
     "state": {
      "_model_module": "@jupyter-widgets/base",
      "_model_module_version": "1.2.0",
      "_model_name": "LayoutModel",
      "_view_count": null,
      "_view_module": "@jupyter-widgets/base",
      "_view_module_version": "1.2.0",
      "_view_name": "LayoutView",
      "align_content": null,
      "align_items": null,
      "align_self": null,
      "border": null,
      "bottom": null,
      "display": null,
      "flex": null,
      "flex_flow": null,
      "grid_area": null,
      "grid_auto_columns": null,
      "grid_auto_flow": null,
      "grid_auto_rows": null,
      "grid_column": null,
      "grid_gap": null,
      "grid_row": null,
      "grid_template_areas": null,
      "grid_template_columns": null,
      "grid_template_rows": null,
      "height": null,
      "justify_content": null,
      "justify_items": null,
      "left": null,
      "margin": null,
      "max_height": null,
      "max_width": null,
      "min_height": null,
      "min_width": null,
      "object_fit": null,
      "object_position": null,
      "order": null,
      "overflow": null,
      "overflow_x": null,
      "overflow_y": null,
      "padding": null,
      "right": null,
      "top": null,
      "visibility": null,
      "width": null
     }
    },
    "68995e3091fe48a58befbcf551c17dd6": {
     "model_module": "@jupyter-widgets/base",
     "model_module_version": "1.2.0",
     "model_name": "LayoutModel",
     "state": {
      "_model_module": "@jupyter-widgets/base",
      "_model_module_version": "1.2.0",
      "_model_name": "LayoutModel",
      "_view_count": null,
      "_view_module": "@jupyter-widgets/base",
      "_view_module_version": "1.2.0",
      "_view_name": "LayoutView",
      "align_content": null,
      "align_items": null,
      "align_self": null,
      "border": null,
      "bottom": null,
      "display": null,
      "flex": null,
      "flex_flow": null,
      "grid_area": null,
      "grid_auto_columns": null,
      "grid_auto_flow": null,
      "grid_auto_rows": null,
      "grid_column": null,
      "grid_gap": null,
      "grid_row": null,
      "grid_template_areas": null,
      "grid_template_columns": null,
      "grid_template_rows": null,
      "height": null,
      "justify_content": null,
      "justify_items": null,
      "left": null,
      "margin": null,
      "max_height": null,
      "max_width": null,
      "min_height": null,
      "min_width": null,
      "object_fit": null,
      "object_position": null,
      "order": null,
      "overflow": null,
      "overflow_x": null,
      "overflow_y": null,
      "padding": null,
      "right": null,
      "top": null,
      "visibility": null,
      "width": null
     }
    },
    "85f58d7420f04f2aae709643c0e32ebb": {
     "model_module": "@jupyter-widgets/controls",
     "model_module_version": "1.5.0",
     "model_name": "DescriptionStyleModel",
     "state": {
      "_model_module": "@jupyter-widgets/controls",
      "_model_module_version": "1.5.0",
      "_model_name": "DescriptionStyleModel",
      "_view_count": null,
      "_view_module": "@jupyter-widgets/base",
      "_view_module_version": "1.2.0",
      "_view_name": "StyleView",
      "description_width": ""
     }
    },
    "8a8990d671ab4a1bb5c9cbe195bd796b": {
     "model_module": "@jupyter-widgets/controls",
     "model_module_version": "1.5.0",
     "model_name": "HTMLModel",
     "state": {
      "_dom_classes": [],
      "_model_module": "@jupyter-widgets/controls",
      "_model_module_version": "1.5.0",
      "_model_name": "HTMLModel",
      "_view_count": null,
      "_view_module": "@jupyter-widgets/controls",
      "_view_module_version": "1.5.0",
      "_view_name": "HTMLView",
      "description": "",
      "description_tooltip": null,
      "layout": "IPY_MODEL_0de257e6d6dd42d0a0331655515044d9",
      "placeholder": "​",
      "style": "IPY_MODEL_a277c76f62e04618b382df88aeb34450",
      "value": "Third Octet:   0%"
     }
    },
    "8e2fae16013241138e9c7dbf0b029296": {
     "model_module": "@jupyter-widgets/base",
     "model_module_version": "1.2.0",
     "model_name": "LayoutModel",
     "state": {
      "_model_module": "@jupyter-widgets/base",
      "_model_module_version": "1.2.0",
      "_model_name": "LayoutModel",
      "_view_count": null,
      "_view_module": "@jupyter-widgets/base",
      "_view_module_version": "1.2.0",
      "_view_name": "LayoutView",
      "align_content": null,
      "align_items": null,
      "align_self": null,
      "border": null,
      "bottom": null,
      "display": null,
      "flex": null,
      "flex_flow": null,
      "grid_area": null,
      "grid_auto_columns": null,
      "grid_auto_flow": null,
      "grid_auto_rows": null,
      "grid_column": null,
      "grid_gap": null,
      "grid_row": null,
      "grid_template_areas": null,
      "grid_template_columns": null,
      "grid_template_rows": null,
      "height": null,
      "justify_content": null,
      "justify_items": null,
      "left": null,
      "margin": null,
      "max_height": null,
      "max_width": null,
      "min_height": null,
      "min_width": null,
      "object_fit": null,
      "object_position": null,
      "order": null,
      "overflow": null,
      "overflow_x": null,
      "overflow_y": null,
      "padding": null,
      "right": null,
      "top": null,
      "visibility": null,
      "width": null
     }
    },
    "940aa86689bb41a9a24a768b18bc9e65": {
     "model_module": "@jupyter-widgets/controls",
     "model_module_version": "1.5.0",
     "model_name": "FloatProgressModel",
     "state": {
      "_dom_classes": [],
      "_model_module": "@jupyter-widgets/controls",
      "_model_module_version": "1.5.0",
      "_model_name": "FloatProgressModel",
      "_view_count": null,
      "_view_module": "@jupyter-widgets/controls",
      "_view_module_version": "1.5.0",
      "_view_name": "ProgressView",
      "bar_style": "",
      "description": "",
      "description_tooltip": null,
      "layout": "IPY_MODEL_b4438a0950bf44e79370162843397d0c",
      "max": 6,
      "min": 0,
      "orientation": "horizontal",
      "style": "IPY_MODEL_c47a3afb8ad543d8b31f9a4aa99d03c5",
      "value": 6
     }
    },
    "9f79a8f4dc274cc1873917c7adb3e426": {
     "model_module": "@jupyter-widgets/controls",
     "model_module_version": "1.5.0",
     "model_name": "HBoxModel",
     "state": {
      "_dom_classes": [],
      "_model_module": "@jupyter-widgets/controls",
      "_model_module_version": "1.5.0",
      "_model_name": "HBoxModel",
      "_view_count": null,
      "_view_module": "@jupyter-widgets/controls",
      "_view_module_version": "1.5.0",
      "_view_name": "HBoxView",
      "box_style": "",
      "children": [
       "IPY_MODEL_5a0ef775fe87478f9675e97466e633dc",
       "IPY_MODEL_4b18fa241a9c4450aa9092d016595402",
       "IPY_MODEL_5a722e5fd92a4c208785346c12b255a9"
      ],
      "layout": "IPY_MODEL_6593fc96fcbf4c59bd1612aa13cacc02"
     }
    },
    "a277c76f62e04618b382df88aeb34450": {
     "model_module": "@jupyter-widgets/controls",
     "model_module_version": "1.5.0",
     "model_name": "DescriptionStyleModel",
     "state": {
      "_model_module": "@jupyter-widgets/controls",
      "_model_module_version": "1.5.0",
      "_model_name": "DescriptionStyleModel",
      "_view_count": null,
      "_view_module": "@jupyter-widgets/base",
      "_view_module_version": "1.2.0",
      "_view_name": "StyleView",
      "description_width": ""
     }
    },
    "a4b39327ab6e472a92de46d16aa9552d": {
     "model_module": "@jupyter-widgets/controls",
     "model_module_version": "1.5.0",
     "model_name": "FloatProgressModel",
     "state": {
      "_dom_classes": [],
      "_model_module": "@jupyter-widgets/controls",
      "_model_module_version": "1.5.0",
      "_model_name": "FloatProgressModel",
      "_view_count": null,
      "_view_module": "@jupyter-widgets/controls",
      "_view_module_version": "1.5.0",
      "_view_name": "ProgressView",
      "bar_style": "",
      "description": "",
      "description_tooltip": null,
      "layout": "IPY_MODEL_1bc76c059b7c42be94b10f13e78b14a2",
      "max": 3,
      "min": 0,
      "orientation": "horizontal",
      "style": "IPY_MODEL_60e1ef124314423882625a4276281c1d",
      "value": 3
     }
    },
    "a917d3deaa064ee0908fc9a65903d57a": {
     "model_module": "@jupyter-widgets/controls",
     "model_module_version": "1.5.0",
     "model_name": "HTMLModel",
     "state": {
      "_dom_classes": [],
      "_model_module": "@jupyter-widgets/controls",
      "_model_module_version": "1.5.0",
      "_model_name": "HTMLModel",
      "_view_count": null,
      "_view_module": "@jupyter-widgets/controls",
      "_view_module_version": "1.5.0",
      "_view_name": "HTMLView",
      "description": "",
      "description_tooltip": null,
      "layout": "IPY_MODEL_e52afffb4d2548f396bc08ca958bb25f",
      "placeholder": "​",
      "style": "IPY_MODEL_3b20a5ae5bae4f8f951fbfedda0fd396",
      "value": "Third Octet:   0%"
     }
    },
    "b4438a0950bf44e79370162843397d0c": {
     "model_module": "@jupyter-widgets/base",
     "model_module_version": "1.2.0",
     "model_name": "LayoutModel",
     "state": {
      "_model_module": "@jupyter-widgets/base",
      "_model_module_version": "1.2.0",
      "_model_name": "LayoutModel",
      "_view_count": null,
      "_view_module": "@jupyter-widgets/base",
      "_view_module_version": "1.2.0",
      "_view_name": "LayoutView",
      "align_content": null,
      "align_items": null,
      "align_self": null,
      "border": null,
      "bottom": null,
      "display": null,
      "flex": null,
      "flex_flow": null,
      "grid_area": null,
      "grid_auto_columns": null,
      "grid_auto_flow": null,
      "grid_auto_rows": null,
      "grid_column": null,
      "grid_gap": null,
      "grid_row": null,
      "grid_template_areas": null,
      "grid_template_columns": null,
      "grid_template_rows": null,
      "height": null,
      "justify_content": null,
      "justify_items": null,
      "left": null,
      "margin": null,
      "max_height": null,
      "max_width": null,
      "min_height": null,
      "min_width": null,
      "object_fit": null,
      "object_position": null,
      "order": null,
      "overflow": null,
      "overflow_x": null,
      "overflow_y": null,
      "padding": null,
      "right": null,
      "top": null,
      "visibility": null,
      "width": null
     }
    },
    "b873a2b1e62045eb95abf9f496429689": {
     "model_module": "@jupyter-widgets/controls",
     "model_module_version": "1.5.0",
     "model_name": "DescriptionStyleModel",
     "state": {
      "_model_module": "@jupyter-widgets/controls",
      "_model_module_version": "1.5.0",
      "_model_name": "DescriptionStyleModel",
      "_view_count": null,
      "_view_module": "@jupyter-widgets/base",
      "_view_module_version": "1.2.0",
      "_view_name": "StyleView",
      "description_width": ""
     }
    },
    "bd0bc4c320584cc49d523b255084d4c0": {
     "model_module": "@jupyter-widgets/controls",
     "model_module_version": "1.5.0",
     "model_name": "HTMLModel",
     "state": {
      "_dom_classes": [],
      "_model_module": "@jupyter-widgets/controls",
      "_model_module_version": "1.5.0",
      "_model_name": "HTMLModel",
      "_view_count": null,
      "_view_module": "@jupyter-widgets/controls",
      "_view_module_version": "1.5.0",
      "_view_name": "HTMLView",
      "description": "",
      "description_tooltip": null,
      "layout": "IPY_MODEL_f602303226f142c4a3c509429ac91833",
      "placeholder": "​",
      "style": "IPY_MODEL_55a9a583c52c4782acfa0fe205d7cf35",
      "value": "Second Octet:  50%"
     }
    },
    "bfaab26ec8da4a4ca4267f06e109eacc": {
     "model_module": "@jupyter-widgets/controls",
     "model_module_version": "1.5.0",
     "model_name": "HTMLModel",
     "state": {
      "_dom_classes": [],
      "_model_module": "@jupyter-widgets/controls",
      "_model_module_version": "1.5.0",
      "_model_name": "HTMLModel",
      "_view_count": null,
      "_view_module": "@jupyter-widgets/controls",
      "_view_module_version": "1.5.0",
      "_view_name": "HTMLView",
      "description": "",
      "description_tooltip": null,
      "layout": "IPY_MODEL_d28da86199934d04a6d8bcf039f8af29",
      "placeholder": "​",
      "style": "IPY_MODEL_310abbd5f77f4bdb8a54dead6bc14ab3",
      "value": " 0/3 [00:00&lt;?, ?it/s]"
     }
    },
    "c47a3afb8ad543d8b31f9a4aa99d03c5": {
     "model_module": "@jupyter-widgets/controls",
     "model_module_version": "1.5.0",
     "model_name": "ProgressStyleModel",
     "state": {
      "_model_module": "@jupyter-widgets/controls",
      "_model_module_version": "1.5.0",
      "_model_name": "ProgressStyleModel",
      "_view_count": null,
      "_view_module": "@jupyter-widgets/base",
      "_view_module_version": "1.2.0",
      "_view_name": "StyleView",
      "bar_color": null,
      "description_width": ""
     }
    },
    "cab809f50c514b48a91f550f9da78727": {
     "model_module": "@jupyter-widgets/controls",
     "model_module_version": "1.5.0",
     "model_name": "ProgressStyleModel",
     "state": {
      "_model_module": "@jupyter-widgets/controls",
      "_model_module_version": "1.5.0",
      "_model_name": "ProgressStyleModel",
      "_view_count": null,
      "_view_module": "@jupyter-widgets/base",
      "_view_module_version": "1.2.0",
      "_view_name": "StyleView",
      "bar_color": null,
      "description_width": ""
     }
    },
    "d28da86199934d04a6d8bcf039f8af29": {
     "model_module": "@jupyter-widgets/base",
     "model_module_version": "1.2.0",
     "model_name": "LayoutModel",
     "state": {
      "_model_module": "@jupyter-widgets/base",
      "_model_module_version": "1.2.0",
      "_model_name": "LayoutModel",
      "_view_count": null,
      "_view_module": "@jupyter-widgets/base",
      "_view_module_version": "1.2.0",
      "_view_name": "LayoutView",
      "align_content": null,
      "align_items": null,
      "align_self": null,
      "border": null,
      "bottom": null,
      "display": null,
      "flex": null,
      "flex_flow": null,
      "grid_area": null,
      "grid_auto_columns": null,
      "grid_auto_flow": null,
      "grid_auto_rows": null,
      "grid_column": null,
      "grid_gap": null,
      "grid_row": null,
      "grid_template_areas": null,
      "grid_template_columns": null,
      "grid_template_rows": null,
      "height": null,
      "justify_content": null,
      "justify_items": null,
      "left": null,
      "margin": null,
      "max_height": null,
      "max_width": null,
      "min_height": null,
      "min_width": null,
      "object_fit": null,
      "object_position": null,
      "order": null,
      "overflow": null,
      "overflow_x": null,
      "overflow_y": null,
      "padding": null,
      "right": null,
      "top": null,
      "visibility": null,
      "width": null
     }
    },
    "e3a02a15133d4e2c92bfa7700cf68e5f": {
     "model_module": "@jupyter-widgets/base",
     "model_module_version": "1.2.0",
     "model_name": "LayoutModel",
     "state": {
      "_model_module": "@jupyter-widgets/base",
      "_model_module_version": "1.2.0",
      "_model_name": "LayoutModel",
      "_view_count": null,
      "_view_module": "@jupyter-widgets/base",
      "_view_module_version": "1.2.0",
      "_view_name": "LayoutView",
      "align_content": null,
      "align_items": null,
      "align_self": null,
      "border": null,
      "bottom": null,
      "display": null,
      "flex": null,
      "flex_flow": null,
      "grid_area": null,
      "grid_auto_columns": null,
      "grid_auto_flow": null,
      "grid_auto_rows": null,
      "grid_column": null,
      "grid_gap": null,
      "grid_row": null,
      "grid_template_areas": null,
      "grid_template_columns": null,
      "grid_template_rows": null,
      "height": null,
      "justify_content": null,
      "justify_items": null,
      "left": null,
      "margin": null,
      "max_height": null,
      "max_width": null,
      "min_height": null,
      "min_width": null,
      "object_fit": null,
      "object_position": null,
      "order": null,
      "overflow": null,
      "overflow_x": null,
      "overflow_y": null,
      "padding": null,
      "right": null,
      "top": null,
      "visibility": null,
      "width": null
     }
    },
    "e52afffb4d2548f396bc08ca958bb25f": {
     "model_module": "@jupyter-widgets/base",
     "model_module_version": "1.2.0",
     "model_name": "LayoutModel",
     "state": {
      "_model_module": "@jupyter-widgets/base",
      "_model_module_version": "1.2.0",
      "_model_name": "LayoutModel",
      "_view_count": null,
      "_view_module": "@jupyter-widgets/base",
      "_view_module_version": "1.2.0",
      "_view_name": "LayoutView",
      "align_content": null,
      "align_items": null,
      "align_self": null,
      "border": null,
      "bottom": null,
      "display": null,
      "flex": null,
      "flex_flow": null,
      "grid_area": null,
      "grid_auto_columns": null,
      "grid_auto_flow": null,
      "grid_auto_rows": null,
      "grid_column": null,
      "grid_gap": null,
      "grid_row": null,
      "grid_template_areas": null,
      "grid_template_columns": null,
      "grid_template_rows": null,
      "height": null,
      "justify_content": null,
      "justify_items": null,
      "left": null,
      "margin": null,
      "max_height": null,
      "max_width": null,
      "min_height": null,
      "min_width": null,
      "object_fit": null,
      "object_position": null,
      "order": null,
      "overflow": null,
      "overflow_x": null,
      "overflow_y": null,
      "padding": null,
      "right": null,
      "top": null,
      "visibility": null,
      "width": null
     }
    },
    "e57703e8cd6240349721d3ea57b4c687": {
     "model_module": "@jupyter-widgets/base",
     "model_module_version": "1.2.0",
     "model_name": "LayoutModel",
     "state": {
      "_model_module": "@jupyter-widgets/base",
      "_model_module_version": "1.2.0",
      "_model_name": "LayoutModel",
      "_view_count": null,
      "_view_module": "@jupyter-widgets/base",
      "_view_module_version": "1.2.0",
      "_view_name": "LayoutView",
      "align_content": null,
      "align_items": null,
      "align_self": null,
      "border": null,
      "bottom": null,
      "display": null,
      "flex": null,
      "flex_flow": null,
      "grid_area": null,
      "grid_auto_columns": null,
      "grid_auto_flow": null,
      "grid_auto_rows": null,
      "grid_column": null,
      "grid_gap": null,
      "grid_row": null,
      "grid_template_areas": null,
      "grid_template_columns": null,
      "grid_template_rows": null,
      "height": null,
      "justify_content": null,
      "justify_items": null,
      "left": null,
      "margin": null,
      "max_height": null,
      "max_width": null,
      "min_height": null,
      "min_width": null,
      "object_fit": null,
      "object_position": null,
      "order": null,
      "overflow": null,
      "overflow_x": null,
      "overflow_y": null,
      "padding": null,
      "right": null,
      "top": null,
      "visibility": null,
      "width": null
     }
    },
    "f005f736bcbc4bd1b57139cf42a2bc1a": {
     "model_module": "@jupyter-widgets/controls",
     "model_module_version": "1.5.0",
     "model_name": "DescriptionStyleModel",
     "state": {
      "_model_module": "@jupyter-widgets/controls",
      "_model_module_version": "1.5.0",
      "_model_name": "DescriptionStyleModel",
      "_view_count": null,
      "_view_module": "@jupyter-widgets/base",
      "_view_module_version": "1.2.0",
      "_view_name": "StyleView",
      "description_width": ""
     }
    },
    "f1558eed4b734603b656f233b3c8164f": {
     "model_module": "@jupyter-widgets/base",
     "model_module_version": "1.2.0",
     "model_name": "LayoutModel",
     "state": {
      "_model_module": "@jupyter-widgets/base",
      "_model_module_version": "1.2.0",
      "_model_name": "LayoutModel",
      "_view_count": null,
      "_view_module": "@jupyter-widgets/base",
      "_view_module_version": "1.2.0",
      "_view_name": "LayoutView",
      "align_content": null,
      "align_items": null,
      "align_self": null,
      "border": null,
      "bottom": null,
      "display": null,
      "flex": null,
      "flex_flow": null,
      "grid_area": null,
      "grid_auto_columns": null,
      "grid_auto_flow": null,
      "grid_auto_rows": null,
      "grid_column": null,
      "grid_gap": null,
      "grid_row": null,
      "grid_template_areas": null,
      "grid_template_columns": null,
      "grid_template_rows": null,
      "height": null,
      "justify_content": null,
      "justify_items": null,
      "left": null,
      "margin": null,
      "max_height": null,
      "max_width": null,
      "min_height": null,
      "min_width": null,
      "object_fit": null,
      "object_position": null,
      "order": null,
      "overflow": null,
      "overflow_x": null,
      "overflow_y": null,
      "padding": null,
      "right": null,
      "top": null,
      "visibility": null,
      "width": null
     }
    },
    "f4c628247b60488ab2000e082202aa0b": {
     "model_module": "@jupyter-widgets/base",
     "model_module_version": "1.2.0",
     "model_name": "LayoutModel",
     "state": {
      "_model_module": "@jupyter-widgets/base",
      "_model_module_version": "1.2.0",
      "_model_name": "LayoutModel",
      "_view_count": null,
      "_view_module": "@jupyter-widgets/base",
      "_view_module_version": "1.2.0",
      "_view_name": "LayoutView",
      "align_content": null,
      "align_items": null,
      "align_self": null,
      "border": null,
      "bottom": null,
      "display": null,
      "flex": null,
      "flex_flow": null,
      "grid_area": null,
      "grid_auto_columns": null,
      "grid_auto_flow": null,
      "grid_auto_rows": null,
      "grid_column": null,
      "grid_gap": null,
      "grid_row": null,
      "grid_template_areas": null,
      "grid_template_columns": null,
      "grid_template_rows": null,
      "height": null,
      "justify_content": null,
      "justify_items": null,
      "left": null,
      "margin": null,
      "max_height": null,
      "max_width": null,
      "min_height": null,
      "min_width": null,
      "object_fit": null,
      "object_position": null,
      "order": null,
      "overflow": null,
      "overflow_x": null,
      "overflow_y": null,
      "padding": null,
      "right": null,
      "top": null,
      "visibility": null,
      "width": null
     }
    },
    "f6019c237c344f02b0a1cefb9de37d4d": {
     "model_module": "@jupyter-widgets/controls",
     "model_module_version": "1.5.0",
     "model_name": "HTMLModel",
     "state": {
      "_dom_classes": [],
      "_model_module": "@jupyter-widgets/controls",
      "_model_module_version": "1.5.0",
      "_model_name": "HTMLModel",
      "_view_count": null,
      "_view_module": "@jupyter-widgets/controls",
      "_view_module_version": "1.5.0",
      "_view_name": "HTMLView",
      "description": "",
      "description_tooltip": null,
      "layout": "IPY_MODEL_68995e3091fe48a58befbcf551c17dd6",
      "placeholder": "​",
      "style": "IPY_MODEL_f005f736bcbc4bd1b57139cf42a2bc1a",
      "value": " 1/2 [00:00&lt;00:00,  9.01it/s]"
     }
    },
    "f602303226f142c4a3c509429ac91833": {
     "model_module": "@jupyter-widgets/base",
     "model_module_version": "1.2.0",
     "model_name": "LayoutModel",
     "state": {
      "_model_module": "@jupyter-widgets/base",
      "_model_module_version": "1.2.0",
      "_model_name": "LayoutModel",
      "_view_count": null,
      "_view_module": "@jupyter-widgets/base",
      "_view_module_version": "1.2.0",
      "_view_name": "LayoutView",
      "align_content": null,
      "align_items": null,
      "align_self": null,
      "border": null,
      "bottom": null,
      "display": null,
      "flex": null,
      "flex_flow": null,
      "grid_area": null,
      "grid_auto_columns": null,
      "grid_auto_flow": null,
      "grid_auto_rows": null,
      "grid_column": null,
      "grid_gap": null,
      "grid_row": null,
      "grid_template_areas": null,
      "grid_template_columns": null,
      "grid_template_rows": null,
      "height": null,
      "justify_content": null,
      "justify_items": null,
      "left": null,
      "margin": null,
      "max_height": null,
      "max_width": null,
      "min_height": null,
      "min_width": null,
      "object_fit": null,
      "object_position": null,
      "order": null,
      "overflow": null,
      "overflow_x": null,
      "overflow_y": null,
      "padding": null,
      "right": null,
      "top": null,
      "visibility": null,
      "width": null
     }
    },
    "f8ccd567c2324a999fe707f92b6d1f90": {
     "model_module": "@jupyter-widgets/controls",
     "model_module_version": "1.5.0",
     "model_name": "FloatProgressModel",
     "state": {
      "_dom_classes": [],
      "_model_module": "@jupyter-widgets/controls",
      "_model_module_version": "1.5.0",
      "_model_name": "FloatProgressModel",
      "_view_count": null,
      "_view_module": "@jupyter-widgets/controls",
      "_view_module_version": "1.5.0",
      "_view_name": "ProgressView",
      "bar_style": "",
      "description": "",
      "description_tooltip": null,
      "layout": "IPY_MODEL_2502860da57c46078f720f12fdc3d51f",
      "max": 2,
      "min": 0,
      "orientation": "horizontal",
      "style": "IPY_MODEL_57a611f517d54ad0a2171b6dad348723",
      "value": 2
     }
    }
   }
  }
 },
 "nbformat": 4,
 "nbformat_minor": 5
}
